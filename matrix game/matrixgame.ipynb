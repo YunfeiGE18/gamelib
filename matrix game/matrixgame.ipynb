{
 "cells": [
  {
   "cell_type": "code",
   "execution_count": 1,
   "metadata": {},
   "outputs": [],
   "source": [
    "import nashpy as nash\n",
    "import numpy as np\n",
    "import matrixgame\n",
    "\n",
    "# reference: https://nashpy.readthedocs.io/en/stable/index.html\n",
    "\n",
    "# row player's utility\n",
    "A = np.array([[3, 0], [5, 1]])\n",
    "# column player's utility\n",
    "B = np.array([[3, 5], [0, 1]])"
   ]
  },
  {
   "cell_type": "markdown",
   "metadata": {},
   "source": [
    "## Zero sum game"
   ]
  },
  {
   "cell_type": "code",
   "execution_count": 2,
   "metadata": {},
   "outputs": [
    {
     "name": "stdout",
     "output_type": "stream",
     "text": [
      "row player's strategy: [0. 1.]\n",
      "column player's strategy: [0. 1.]\n",
      "row player's game value: 1.0\n",
      "row player's game value: -1.0\n"
     ]
    }
   ],
   "source": [
    "pi_r, pi_c, gameval = matrixgame.zerosum(A)\n",
    "\n",
    "print(\"row player's strategy: \" + str(pi_r))\n",
    "print(\"column player's strategy: \" + str(pi_c))\n",
    "print(\"row player's game value: \" + str(gameval[0]))\n",
    "print(\"row player's game value: \" + str(gameval[1]))"
   ]
  },
  {
   "cell_type": "markdown",
   "metadata": {},
   "source": [
    "## General sum game"
   ]
  },
  {
   "cell_type": "code",
   "execution_count": 3,
   "metadata": {},
   "outputs": [
    {
     "name": "stdout",
     "output_type": "stream",
     "text": [
      "row player's strategy: [0. 1.]\n",
      "column player's strategy: [0. 1.]\n",
      "row player's game value: 1.0\n",
      "row player's game value: 1.0\n"
     ]
    }
   ],
   "source": [
    "pi_r, pi_c, gameval = matrixgame.generalsum(A,B)\n",
    "\n",
    "print(\"row player's strategy: \" + str(pi_r))\n",
    "print(\"column player's strategy: \" + str(pi_c))\n",
    "print(\"row player's game value: \" + str(gameval[0]))\n",
    "print(\"row player's game value: \" + str(gameval[1]))"
   ]
  }
 ],
 "metadata": {
  "kernelspec": {
   "display_name": "Python 3",
   "language": "python",
   "name": "python3"
  },
  "language_info": {
   "codemirror_mode": {
    "name": "ipython",
    "version": 3
   },
   "file_extension": ".py",
   "mimetype": "text/x-python",
   "name": "python",
   "nbconvert_exporter": "python",
   "pygments_lexer": "ipython3",
   "version": "3.8.5"
  }
 },
 "nbformat": 4,
 "nbformat_minor": 4
}
