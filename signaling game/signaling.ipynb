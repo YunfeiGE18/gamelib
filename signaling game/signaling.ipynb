{
 "cells": [
  {
   "cell_type": "code",
   "execution_count": 1,
   "metadata": {},
   "outputs": [],
   "source": [
    "import Pooling\n",
    "import Separating\n",
    "import numpy as np\n",
    "\n",
    "# reference: https://github.com/Daeijavad/PyPBEsignal\n",
    "#            Carroll, Thomas E., and Daniel Grosu. \"A game theoretic investigation of deception in network security.\" \n",
    "\n",
    "\n",
    "# prior belief b[type0]\n",
    "theta = 0.3\n",
    "# sender_util[type][sender_act][receiver_act]\n",
    "sender_util = np.array([[[2, 2], [5, 3]],\n",
    "                        [[4, 2], [2, 3]]],dtype = np.float)\n",
    "# receiver_util[type][sender_act][receiver_act]\n",
    "receiver_util = np.array([[[1, 0], [4, 1]],\n",
    "                        [[0, 1], [0, 1]]],dtype = np.float)"
   ]
  },
  {
   "cell_type": "code",
   "execution_count": 2,
   "metadata": {},
   "outputs": [
    {
     "data": {
      "text/plain": [
       "[]"
      ]
     },
     "execution_count": 2,
     "metadata": {},
     "output_type": "execute_result"
    }
   ],
   "source": [
    "Pooling.pooling(m = 0, theta= theta,sender_util= sender_util, receiver_util= receiver_util)"
   ]
  },
  {
   "cell_type": "code",
   "execution_count": 3,
   "metadata": {},
   "outputs": [
    {
     "data": {
      "text/plain": [
       "[{'Eq': 2,\n",
       "  'S1': 'M1, M1',\n",
       "  'S2': 'A1, A0',\n",
       "  'p_range': (0, 0.5),\n",
       "  'q_range': (0.3, 0.3),\n",
       "  'EU_S': 2.9,\n",
       "  'EU_R': 1.2}]"
      ]
     },
     "execution_count": 3,
     "metadata": {},
     "output_type": "execute_result"
    }
   ],
   "source": [
    "Pooling.pooling(m = 1,  theta= theta, sender_util= sender_util, receiver_util= receiver_util)"
   ]
  },
  {
   "cell_type": "code",
   "execution_count": 4,
   "metadata": {},
   "outputs": [
    {
     "data": {
      "text/plain": [
       "[{'Eq': 3,\n",
       "  'pi_s': 'M1, M0',\n",
       "  'pi_r': 'A1, A0',\n",
       "  'p_range': (0, 0),\n",
       "  'q_range': (1, 1),\n",
       "  'EU_S': 3.6999999999999997,\n",
       "  'EU_R': 0.3}]"
      ]
     },
     "execution_count": 4,
     "metadata": {},
     "output_type": "execute_result"
    }
   ],
   "source": [
    "Separating.separating(theta= theta,sender_util= sender_util, receiver_util= receiver_util)"
   ]
  }
 ],
 "metadata": {
  "kernelspec": {
   "display_name": "Python 3",
   "language": "python",
   "name": "python3"
  },
  "language_info": {
   "codemirror_mode": {
    "name": "ipython",
    "version": 3
   },
   "file_extension": ".py",
   "mimetype": "text/x-python",
   "name": "python",
   "nbconvert_exporter": "python",
   "pygments_lexer": "ipython3",
   "version": "3.8.5"
  }
 },
 "nbformat": 4,
 "nbformat_minor": 4
}
