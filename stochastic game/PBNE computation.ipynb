{
 "cells": [
  {
   "cell_type": "markdown",
   "metadata": {},
   "source": [
    "# PBNE Computation"
   ]
  },
  {
   "cell_type": "code",
   "execution_count": 1,
   "metadata": {},
   "outputs": [],
   "source": [
    "import numpy as np\n",
    "import nashpy as nash\n",
    "import gurobipy as gp\n",
    "\n",
    "from pbne import *"
   ]
  },
  {
   "cell_type": "code",
   "execution_count": 2,
   "metadata": {},
   "outputs": [],
   "source": [
    "# number of states\n",
    "state_list = list(range(8))\n",
    "num_state = len(state_list)\n",
    "\n",
    "# T[state][action]\n",
    "T = [[1, 5], [2, 7, 4], [7, 3, 6], [7, 6, 7, 6], [3, 7, 7, 6], [2, 6]]\n",
    "\n",
    "# actions[type][state][action_index]\n",
    "actions = [[[(1, 2), (1, 3)], [(1, 3), (2, 4), (2, 5)], [(2, 4), (2, 5), (3, 6)], \n",
    "            [(2, 4), (3, 6), (4, 5), (5, 6)], [(1, 3), (2, 4), (4, 5), (5, 6)], \n",
    "            [(1, 2), (3, 6)]], [[(1, 2), (1, 3)], [(1, 3), (2, 4), (2, 5)], \n",
    "            [(2, 4), (2, 5), (3, 6)], [(2, 4), (3, 6), (4, 5), (5, 6)], \n",
    "            [(1, 3), (2, 4), (4, 5), (5, 6)], [(1, 2), (3, 6)]]]\n",
    "\n",
    "# rewards[type][state][action_rowidx_attack_min][action_columnidx_defense_max]\n",
    "rewards = [[np.array([[10. , -4.4],\n",
    "       [-7.4, 10. ]]), np.array([[10. , -7.4, -7.4],\n",
    "       [-1.9, 10. , -1.9],\n",
    "       [-6.8, -6.8, 10. ]]), np.array([[ 10. ,  -1.9,  -1.9],\n",
    "       [ -6.8,  10. ,  -6.8],\n",
    "       [-13.8, -13.8,  10. ]]), np.array([[ 10. ,  -1.9,  -1.9,  -1.9],\n",
    "       [-13.8,  10. , -13.8, -13.8],\n",
    "       [  2. ,   2. ,  10. ,   2. ],\n",
    "       [-13. , -13. , -13. ,  10. ]]), np.array([[ 10. ,  -7.4,  -7.4,  -7.4],\n",
    "       [ -1.9,  10. ,  -1.9,  -1.9],\n",
    "       [  2. ,   2. ,  10. ,   2. ],\n",
    "       [-13. , -13. , -13. ,  10. ]]), np.array([[ 10. ,  -4.4],\n",
    "       [-13.8,  10. ]])], [np.array([[10.        , -9.4       ],\n",
    "       [-2.73333333, 10.        ]]), np.array([[ 10.        ,  -0.73333333,  -0.73333333],\n",
    "       [-16.9       ,  10.        , -16.9       ],\n",
    "       [ -6.8       ,  -6.8       ,  10.        ]]), np.array([[ 10. , -16.9, -16.9],\n",
    "       [ -6.8,  10. ,  -6.8],\n",
    "       [  1.2,   1.2,  10. ]]), np.array([[ 10. , -16.9, -16.9, -16.9],\n",
    "       [  1.2,  10. ,   1.2,   1.2],\n",
    "       [-13. , -13. ,  10. , -13. ],\n",
    "       [  2. ,   2. ,   2. ,  10. ]]), np.array([[ 10.        ,   1.26666667,   1.26666667,   1.26666667],\n",
    "       [-16.9       ,  10.        , -16.9       , -16.9       ],\n",
    "       [-13.        , -13.        ,  10.        , -13.        ],\n",
    "       [  2.        ,   2.        ,   2.        ,  10.        ]]), np.array([[10. , -9.4],\n",
    "       [ 1.2, 10. ]])]]\n",
    "\n",
    "# Finite time horizon\n",
    "K = 10\n",
    "\n",
    "# Max number of iteration\n",
    "num_ite = 10\n",
    "        "
   ]
  },
  {
   "cell_type": "code",
   "execution_count": 3,
   "metadata": {},
   "outputs": [],
   "source": [
    "# Initial belief for each stage\n",
    "\n",
    "p_type1 = 0.95\n",
    "prior = [1-p_type1,p_type1]\n",
    "\n",
    "\n",
    "b = [[] for i in range(2)]\n",
    "\n",
    "\n",
    "for i in range(2):\n",
    "    b[i] = [[] for j in range(num_state-2)]\n",
    "    for j in range(num_state-2):\n",
    "        b[i][j] = [prior[i]]*(K+1)        #b[type][state][k] "
   ]
  },
  {
   "cell_type": "code",
   "execution_count": 3,
   "metadata": {},
   "outputs": [],
   "source": []
  },
  {
   "cell_type": "code",
   "execution_count": 3,
   "metadata": {},
   "outputs": [
    {
     "name": "stdout",
     "output_type": "stream",
     "text": [
      "Academic license - for non-commercial use only - expires 2023-10-30\n",
      "Using license file /Users/geyf/gurobi.lic\n"
     ]
    }
   ],
   "source": [
    "for ite in range(num_ite):\n",
    "\n",
    "    # SBNE\n",
    "    val_a, val_d, pid, pia= SBNE(actions,rewards, num_state, b, K)\n",
    "    # PBNE\n",
    "    val_a, val_d, pid, pia = DBNE(actions, rewards, T, num_state, K, val_a, val_d, pid, pia, b)\n",
    "    # Belief update\n",
    "    b = belief_update(b, actions, T, pid, pia, num_state, K)"
   ]
  },
  {
   "cell_type": "code",
   "execution_count": null,
   "metadata": {},
   "outputs": [],
   "source": []
  }
 ],
 "metadata": {
  "kernelspec": {
   "display_name": "Python 3",
   "language": "python",
   "name": "python3"
  },
  "language_info": {
   "codemirror_mode": {
    "name": "ipython",
    "version": 3
   },
   "file_extension": ".py",
   "mimetype": "text/x-python",
   "name": "python",
   "nbconvert_exporter": "python",
   "pygments_lexer": "ipython3",
   "version": "3.8.5"
  }
 },
 "nbformat": 4,
 "nbformat_minor": 4
}
