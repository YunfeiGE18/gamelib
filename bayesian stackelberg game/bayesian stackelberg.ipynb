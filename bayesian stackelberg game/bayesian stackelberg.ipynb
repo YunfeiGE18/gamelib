{
 "cells": [
  {
   "cell_type": "code",
   "execution_count": 3,
   "metadata": {},
   "outputs": [
    {
     "name": "stdout",
     "output_type": "stream",
     "text": [
      "\n",
      "\n",
      "Gurobi Optimizer version 9.1.2 build v9.1.2rc0 (mac64)\n",
      "Thread count: 4 physical cores, 8 logical processors, using up to 8 threads\n",
      "Optimize a model with 11 rows, 11 columns and 61 nonzeros\n",
      "Model fingerprint: 0x33ce312f\n",
      "Model has 20 quadratic objective terms\n",
      "Variable types: 7 continuous, 4 integer (0 binary)\n",
      "Coefficient statistics:\n",
      "  Matrix range     [1e-01, 1e+08]\n",
      "  Objective range  [0e+00, 0e+00]\n",
      "  QObjective range [2e-02, 8e+00]\n",
      "  Bounds range     [1e+00, 1e+00]\n",
      "  RHS range        [1e+00, 1e+08]\n",
      "Presolve removed 11 rows and 11 columns\n",
      "Presolve time: 0.00s\n",
      "Presolve: All rows and columns removed\n",
      "\n",
      "Explored 0 nodes (0 simplex iterations) in 0.01 seconds\n",
      "Thread count was 1 (of 8 available processors)\n",
      "\n",
      "Solution count 1: 0.48 \n",
      "No other solutions better than 0.48\n",
      "\n",
      "Optimal solution found (tolerance 1.00e-04)\n",
      "Best objective 4.800000000000e-01, best bound 4.800000000000e-01, gap 0.0000%\n",
      "---------------\n",
      "message-0 -> 0\n",
      "message-1 -> 0\n",
      "message-2 -> 0\n",
      "message-3 -> 0\n",
      "message-4 -> 1\n",
      "Attacker 0-Normal -> 1\n",
      "Attacker 0-Honeypot -> 0\n",
      "value for attacker-0 -> 0.3\n",
      "Attacker 1-Normal -> 1\n",
      "Attacker 1-Honeypot -> 0\n",
      "value for attacker-1 -> 0.5\n",
      "---------------\n",
      "Obj -> 0.48\n",
      "---------------\n"
     ]
    }
   ],
   "source": [
    "from gurobipy import *\n",
    "import sys\n",
    "import BSG\n",
    "\n",
    "# reference: Paruchuri, Praveen, et al. \"Efficient Algorithms to Solve Bayesian Stackelberg Games for Security Applications.\"\n",
    "\n",
    "\n",
    "#   maximize\n",
    "#       p[l] * Ri[l][i][j] * x[i] * q[l][j]\n",
    "#   subject to\n",
    "#       Sum x[i] = 1\n",
    "#       For each l,  q[l][j] = 1\n",
    "#       For each l & all i, 0 <= a[l] - C[l][i][j] * x[i]\n",
    "#       For each l & all i, a[l] - C[l][i][j] * x[i] <= (1-q[l][j])M\n",
    "#       x[i] <= 1\n",
    "#       x[i] >= 0\n",
    "#       For each l, q[l][j] binary\n",
    "#       a[l] is Real    \n",
    "\n",
    "\n",
    "filename = 'honeypot.txt'\n",
    "\n",
    "BSG.BSG(filename)"
   ]
  },
  {
   "cell_type": "code",
   "execution_count": null,
   "metadata": {},
   "outputs": [],
   "source": []
  }
 ],
 "metadata": {
  "kernelspec": {
   "display_name": "Python 3",
   "language": "python",
   "name": "python3"
  },
  "language_info": {
   "codemirror_mode": {
    "name": "ipython",
    "version": 3
   },
   "file_extension": ".py",
   "mimetype": "text/x-python",
   "name": "python",
   "nbconvert_exporter": "python",
   "pygments_lexer": "ipython3",
   "version": "3.8.5"
  }
 },
 "nbformat": 4,
 "nbformat_minor": 4
}
